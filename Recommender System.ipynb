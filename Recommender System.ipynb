{
 "cells": [
  {
   "cell_type": "code",
   "execution_count": null,
   "metadata": {},
   "outputs": [],
   "source": [
    "import pandas as pd\n",
    "import numpy as np\n",
    "import matplotlib.pyplot as plt\n",
    "%matplotlib inline\n",
    "from recommender.recommender_system import *"
   ]
  },
  {
   "cell_type": "code",
   "execution_count": null,
   "metadata": {},
   "outputs": [],
   "source": [
    "# load the data\n",
    "imdb_movie_info = pd.read_csv(\"data/IMDB-Movie-Data.csv\")\n",
    "streaming_platform_info = pd.read_csv(\"data/MoviesOnStreamingPlatforms_updated.csv\")\n",
    "\n",
    "netflix_df = streaming_platform_info.loc[streaming_platform_info[\"Netflix\"] == 1]\n",
    "hulu_df = streaming_platform_info.loc[streaming_platform_info[\"Hulu\"] == 1]\n",
    "prime_df = streaming_platform_info.loc[streaming_platform_info[\"Prime Video\"] == 1]\n",
    "disney_df = streaming_platform_info.loc[streaming_platform_info[\"Disney+\"] == 1]\n",
    "\n",
    "plat_dic = {\"Netflix\": netflix_df, \"Hulu\": hulu_df, \"Prime\": prime_df, \"Disney\": disney_df}"
   ]
  },
  {
   "cell_type": "code",
   "execution_count": null,
   "metadata": {
    "scrolled": false
   },
   "outputs": [],
   "source": [
    "# Generate platform genre radar plot\n",
    "generate_genre_radar_plot(streaming_platform_info, plat_dic)"
   ]
  },
  {
   "cell_type": "code",
   "execution_count": null,
   "metadata": {
    "scrolled": false
   },
   "outputs": [],
   "source": [
    "# Generate user portforlio and platform recommendation\n",
    "watching_history = [\"The Dark Knight\", \"Inception\", \"Avatar\", \"Back to the Future\"]\n",
    "genre_count, plat_count, plat_score, recommended_movie_df = generate_portforlio_contents(history, streaming_platform_info)\n",
    "personal_preference_radar(genre_count)\n",
    "generate_plat_recommendation_plot(plat_count, plat_score)\n",
    "generate_platwise_movie_recommendation(recommended_movie_df)"
   ]
  },
  {
   "cell_type": "code",
   "execution_count": null,
   "metadata": {},
   "outputs": [],
   "source": []
  },
  {
   "cell_type": "code",
   "execution_count": null,
   "metadata": {},
   "outputs": [],
   "source": []
  }
 ],
 "metadata": {
  "kernelspec": {
   "display_name": "Python 3",
   "language": "python",
   "name": "python3"
  },
  "language_info": {
   "codemirror_mode": {
    "name": "ipython",
    "version": 3
   },
   "file_extension": ".py",
   "mimetype": "text/x-python",
   "name": "python",
   "nbconvert_exporter": "python",
   "pygments_lexer": "ipython3",
   "version": "3.8.5"
  }
 },
 "nbformat": 4,
 "nbformat_minor": 4
}
